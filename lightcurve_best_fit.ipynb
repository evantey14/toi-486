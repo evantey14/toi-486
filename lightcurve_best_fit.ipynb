{
 "cells": [
  {
   "cell_type": "code",
   "execution_count": null,
   "id": "suspended-joyce",
   "metadata": {},
   "outputs": [],
   "source": [
    "import os\n",
    "os.environ.update(\n",
    "    OMP_NUM_THREADS=\"1\", OPENBLAS_NUM_THREADS=\"1\", NUMEXPR_NUM_THREADS=\"1\", MKL_NUM_THREADS=\"1\"\n",
    ")"
   ]
  },
  {
   "cell_type": "code",
   "execution_count": null,
   "id": "regional-authorization",
   "metadata": {
    "scrolled": true
   },
   "outputs": [],
   "source": [
    "import sys\n",
    "\n",
    "import matplotlib.pyplot as plt\n",
    "import numpy as np\n",
    "import pandas as pd\n",
    "\n",
    "import exoplanet as xo\n",
    "import pymc3 as pm\n",
    "import pymc3_ext as pmx\n",
    "import theano.tensor as tt\n",
    "import arviz as az\n",
    "import corner\n",
    "\n",
    "from util import phasefold, get_stats, plot_binned\n",
    "\n",
    "%matplotlib inline\n",
    "%load_ext autoreload\n",
    "%autoreload 2"
   ]
  },
  {
   "cell_type": "code",
   "execution_count": null,
   "id": "aging-sampling",
   "metadata": {},
   "outputs": [],
   "source": [
    "# Numbers from the SPOC S1-39 multisector https://tev.mit.edu/data/delivered-signal/i226894/\n",
    "period = 1.74469\n",
    "epoch = 1326.9843\n",
    "ror = 0.0123\n",
    "duration = 1.1574 / 24 # in days"
   ]
  },
  {
   "cell_type": "code",
   "execution_count": null,
   "id": "close-imperial",
   "metadata": {},
   "outputs": [],
   "source": [
    "tic_info = pd.read_csv(\"data/tic_82.csv\", index_col=0).T"
   ]
  },
  {
   "cell_type": "code",
   "execution_count": null,
   "id": "resistant-balance",
   "metadata": {},
   "outputs": [],
   "source": [
    "lc = pd.read_csv(\"data/lc.csv\", index_col=0)\n",
    "lc = lc[lc[\"quality\"] == 0]\n",
    "phase = phasefold(lc[\"time\"], period, epoch)\n",
    "intran = np.abs(phase) < 2 * duration / period\n",
    "lc = lc[intran]\n",
    "print(lc.shape)"
   ]
  },
  {
   "cell_type": "code",
   "execution_count": null,
   "id": "comfortable-aviation",
   "metadata": {},
   "outputs": [],
   "source": [
    "plot_binned(lc[\"time\"], lc[\"flux\"], period, epoch, bins=int(period/(1/60/24)), color=\"0.8\")\n",
    "plot_binned(lc[\"time\"], lc[\"flux\"], period, epoch, bins=int(period/(15/60/24)))"
   ]
  },
  {
   "cell_type": "code",
   "execution_count": null,
   "id": "revolutionary-albania",
   "metadata": {},
   "outputs": [],
   "source": [
    "with pm.Model() as model:\n",
    "    t0 = pm.Uniform(\"t0\", lower=epoch - .1 * period, upper = epoch + .1 * period)\n",
    "    per = pm.Uniform(\"per\", lower=0.9*period, upper=1.1*period)\n",
    "\n",
    "    ror = pm.Uniform(\"ror\", lower=0, upper=2, testval=ror)\n",
    "    b = pm.Uniform(\"b\", lower=-(ror + 1), upper=(ror + 1))\n",
    "    \n",
    "    # From Table 1\n",
    "    m_star = pm.Normal(\"m_star\", mu=0.421, sd=.021)\n",
    "    r_star = pm.Normal(\"r_star\", mu=0.427, sd=0.021)\n",
    "    \n",
    "    orbit = xo.orbits.KeplerianOrbit(\n",
    "        r_star=r_star,\n",
    "        m_star=m_star,\n",
    "        period=per,\n",
    "        t0=t0,\n",
    "        b=b,\n",
    "    )\n",
    "    u = xo.distributions.QuadLimbDark(\"u\")\n",
    "    lcs = pm.Deterministic(\n",
    "        \"lcs\",\n",
    "        xo.LimbDarkLightCurve(u).get_light_curve(\n",
    "            orbit=orbit,\n",
    "            r=ror*r_star,\n",
    "            t=lc[\"time\"],\n",
    "            texp=0.00138889, # 2 min\n",
    "            oversample=3,\n",
    "        )\n",
    "    )\n",
    "    mean = pm.Normal(\"mean\", mu=1.0, sd=0.5)\n",
    "    full_lc = tt.sum(lcs, axis=-1) + mean\n",
    "    pm.Deterministic(\"full_lc\", full_lc)\n",
    "    \n",
    "    # Observation model\n",
    "    pm.Normal(\"obs\", mu=full_lc, sd=lc[\"flux_err\"], observed=lc[\"flux\"], shape=len(lc))"
   ]
  },
  {
   "cell_type": "code",
   "execution_count": null,
   "id": "mathematical-neutral",
   "metadata": {},
   "outputs": [],
   "source": [
    "# Find MAP parameter solution\n",
    "# This helps us make sure our model is set up reasonably and\n",
    "# will give MCMC a starting point\n",
    "with model:\n",
    "    map_soln = pmx.optimize(start=model.test_point, vars=[mean])\n",
    "    map_soln = pmx.optimize(start=map_soln)"
   ]
  },
  {
   "cell_type": "code",
   "execution_count": null,
   "id": "answering-experience",
   "metadata": {},
   "outputs": [],
   "source": [
    "plot_binned(lc[\"time\"], lc[\"flux\"], map_soln[\"per\"], map_soln[\"t0\"], bins=int(period/(1/60/24)), color=\"0.8\")\n",
    "plot_binned(lc[\"time\"], lc[\"flux\"], map_soln[\"per\"], map_soln[\"t0\"], bins=int(period/(15/60/24)), s=100)\n",
    "plot_binned(lc[\"time\"], map_soln[\"full_lc\"], map_soln[\"per\"], map_soln[\"t0\"], s=1)"
   ]
  },
  {
   "cell_type": "code",
   "execution_count": null,
   "id": "presidential-export",
   "metadata": {},
   "outputs": [],
   "source": [
    "# Run MCMC!\n",
    "np.random.seed(42)\n",
    "with model:\n",
    "    trace = pm.sample(\n",
    "        tune=1000,\n",
    "        draws=1000,\n",
    "        start=map_soln,\n",
    "        cores=5,\n",
    "        chains=5,\n",
    "        target_accept=0.90,\n",
    "        return_inferencedata=True,\n",
    "        init=\"adapt_full\",\n",
    "    )"
   ]
  },
  {
   "cell_type": "code",
   "execution_count": null,
   "id": "liberal-inflation",
   "metadata": {},
   "outputs": [],
   "source": [
    "trace.to_netcdf(\"data/230309-oversample7.nc\")"
   ]
  },
  {
   "cell_type": "code",
   "execution_count": null,
   "id": "virtual-praise",
   "metadata": {
    "scrolled": false
   },
   "outputs": [],
   "source": [
    "sampled_params = [\"t0\", \"per\", \"ror\", \"b\", \"u\", \"r_star\", \"m_star\"]\n",
    "az.summary(trace, var_names=sampled_params)\n",
    "# # Check that r_hat is close to 1\n",
    "# stats"
   ]
  },
  {
   "cell_type": "code",
   "execution_count": null,
   "id": "a666bcbe",
   "metadata": {},
   "outputs": [],
   "source": [
    "_ = corner.corner(trace, var_names=sampled_params)"
   ]
  },
  {
   "cell_type": "code",
   "execution_count": null,
   "id": "ade3b228",
   "metadata": {},
   "outputs": [],
   "source": [
    "from util import (\n",
    "    get_a,\n",
    "    get_aor,\n",
    "    get_inclination,\n",
    "    get_radius,\n",
    "    get_teq,\n",
    "    get_insolation,\n",
    "    get_duration,\n",
    "    get_rho,\n",
    "    get_transit_shape,\n",
    "    print_stats,\n",
    ")"
   ]
  },
  {
   "cell_type": "code",
   "execution_count": null,
   "id": "d5b9dae4",
   "metadata": {},
   "outputs": [],
   "source": [
    "samples = trace.posterior.stack(sample=(\"chain\", \"draw\"))"
   ]
  },
  {
   "cell_type": "code",
   "execution_count": null,
   "id": "533b2f13",
   "metadata": {},
   "outputs": [],
   "source": [
    "ignore_params = [\"full_lc\", \"lcs\", \"ecs\", \"mean\", \"u0\", \"u1\"]\n",
    "sampled_params = [\"t0\", \"per\", \"ror\", \"b\", \"u\", \"r_star\", \"m_star\"]\n",
    "\n",
    "# Values from Table 1. Averaged stds.\n",
    "teff_data = samples[\"per\"].copy()\n",
    "teff_data.data = np.random.normal(3485, 138.5, len(samples[\"t0\"]))\n",
    "samples[\"teff\"] = teff_data\n",
    "\n",
    "samples[\"a\"] = get_a(samples[\"per\"], samples[\"m_star\"])\n",
    "samples[\"depth\"] = samples[\"ror\"]**2\n",
    "samples[\"aor\"] = get_aor(samples[\"per\"], samples[\"r_star\"], samples[\"m_star\"])\n",
    "samples[\"inc\"] = get_inclination(samples[\"per\"], samples[\"b\"], samples[\"r_star\"], samples[\"m_star\"])\n",
    "samples[\"r_p\"] = get_radius(samples[\"ror\"], samples[\"r_star\"])\n",
    "samples[\"teq\"] = get_teq(samples[\"per\"], samples[\"r_star\"], samples[\"teff\"], samples[\"m_star\"])\n",
    "samples[\"irr\"] = get_insolation(samples[\"per\"], samples[\"r_star\"], samples[\"teff\"], samples[\"m_star\"])\n",
    "samples[\"dur\"] = get_duration(samples[\"per\"], samples[\"ror\"], samples[\"b\"], samples[\"r_star\"], samples[\"m_star\"])\n",
    "samples[\"t_shape\"] = get_transit_shape(samples[\"ror\"], samples[\"b\"])\n",
    "samples[\"qin\"] = (1 - samples[\"t_shape\"]) / 2\n",
    "samples[\"rho\"] = get_rho(samples[\"per\"], samples[\"dur\"], samples[\"depth\"], samples[\"t_shape\"])\n",
    "\n",
    "derived_params = list(samples.keys() - set(sampled_params) - set(ignore_params))\n",
    "print(\"Sampled:\", sampled_params)\n",
    "print(\"Derived:\", derived_params)"
   ]
  },
  {
   "cell_type": "code",
   "execution_count": null,
   "id": "993d51e9",
   "metadata": {},
   "outputs": [],
   "source": [
    "print(\"Sampled:\")\n",
    "for param_name in sampled_params:\n",
    "    match param_name:\n",
    "        case \"b\": print_stats(\"|b|\", np.abs(samples[param_name]))\n",
    "        case \"u\":\n",
    "            print_stats(\"u0\", samples[\"u\"][0])\n",
    "            print_stats(\"u1\", samples[\"u\"][1])\n",
    "        case _: print_stats(param_name, samples[param_name], sigma=1)\n",
    "print()\n",
    "\n",
    "print(\"Derived:\")\n",
    "for param_name in derived_params:\n",
    "    print_stats(param_name, samples[param_name], sigma=1)"
   ]
  },
  {
   "cell_type": "code",
   "execution_count": null,
   "id": "6bbfc5fa",
   "metadata": {},
   "outputs": [],
   "source": [
    "# Old stuff below"
   ]
  },
  {
   "cell_type": "code",
   "execution_count": null,
   "id": "powered-horizon",
   "metadata": {},
   "outputs": [],
   "source": [
    "median_lc = np.nanmedian(samples[\"full_lc\"], axis=1)\n",
    "median_per = np.nanmedian(samples[\"per\"])\n",
    "median_t0 = np.nanmedian(samples[\"t0\"])"
   ]
  },
  {
   "cell_type": "code",
   "execution_count": null,
   "id": "intended-representation",
   "metadata": {},
   "outputs": [],
   "source": [
    "plt.figure(figsize=(5, 5))\n",
    "plt.subplot(2, 1, 1)\n",
    "plot_binned(lc[\"time\"], lc[\"flux\"], median_per, median_t0, bins=int(period/(1/60/24)), color=\"0.8\")\n",
    "plot_binned(lc[\"time\"], lc[\"flux\"], median_per, median_t0, bins=int(period/(15/60/24)), s=100)\n",
    "plot_binned(lc[\"time\"], median_lc, median_per, median_t0, s=1)\n",
    "\n",
    "plt.subplot(2, 1, 2)\n",
    "plot_binned(lc[\"time\"], lc[\"flux\"] - median_lc, median_per, median_t0, bins=int(period/(1/60/24)))\n",
    "plot_binned(lc[\"time\"], lc[\"flux\"] - median_lc, median_per, median_t0, bins=int(period/(15/60/24)), s=100)\n",
    "plt.axhline(0, color=\"k\")"
   ]
  }
 ],
 "metadata": {
  "kernelspec": {
   "display_name": "Python 3 (ipykernel)",
   "language": "python",
   "name": "python3"
  },
  "language_info": {
   "codemirror_mode": {
    "name": "ipython",
    "version": 3
   },
   "file_extension": ".py",
   "mimetype": "text/x-python",
   "name": "python",
   "nbconvert_exporter": "python",
   "pygments_lexer": "ipython3",
   "version": "3.10.1"
  }
 },
 "nbformat": 4,
 "nbformat_minor": 5
}
