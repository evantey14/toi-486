{
 "cells": [
  {
   "cell_type": "code",
   "execution_count": 4,
   "id": "favorite-slave",
   "metadata": {},
   "outputs": [],
   "source": [
    "# Query some stellar catalogs and save results in a csv\n",
    "\n",
    "import astropy.units as u\n",
    "import pandas as pd\n",
    "from astropy.coordinates import SkyCoord\n",
    "from astroquery.gaia import Gaia\n",
    "from tsig.catalog import TIC\n",
    "import lightkurve as lk"
   ]
  },
  {
   "cell_type": "code",
   "execution_count": 2,
   "id": "endless-arrow",
   "metadata": {},
   "outputs": [
    {
     "name": "stdout",
     "output_type": "stream",
     "text": [
      "Found 1 gaia dr3 result(s).\n"
     ]
    }
   ],
   "source": [
    "tic = 260708537\n",
    "\n",
    "# TIC\n",
    "c = TIC()\n",
    "results, labels = c.query_by_id(str(tic), \"*\")\n",
    "tic_info = pd.DataFrame.from_records(results, columns=labels)\n",
    "\n",
    "# Gaia DR3\n",
    "ra = tic_info[\"ra_orig\"][0]\n",
    "dec = tic_info[\"dec_orig\"][0]\n",
    "coords = SkyCoord(ra=ra*u.degree, dec=dec*u.degree, frame=\"icrs\")\n",
    "gaia_info = Gaia.cone_search(\n",
    "    coords,\n",
    "    radius=1 * u.arcsecond,\n",
    "    table_name=\"gaiadr3.gaia_source\"\n",
    ").get_results()\n",
    "print(f\"Found {len(gaia_info)} gaia dr3 result(s).\")"
   ]
  },
  {
   "cell_type": "code",
   "execution_count": 3,
   "id": "traditional-johnson",
   "metadata": {},
   "outputs": [
    {
     "name": "stdout",
     "output_type": "stream",
     "text": [
      "Writing gaia result to data/gaia_dr3.csv\n",
      "Writing TIC result to data/tic_82.csv\n"
     ]
    }
   ],
   "source": [
    "print(\"Writing gaia result to data/gaia_dr3.csv\")\n",
    "gaia_info.to_pandas().T.to_csv(\"data/gaia_dr3.csv\")\n",
    "\n",
    "print(\"Writing TIC result to data/tic_82.csv\")\n",
    "tic_info.T.to_csv(\"data/tic_82.csv\")"
   ]
  },
  {
   "cell_type": "code",
   "execution_count": 5,
   "id": "saved-poverty",
   "metadata": {},
   "outputs": [
    {
     "name": "stderr",
     "output_type": "stream",
     "text": [
      "Warning: 30% (5871/19412) of the cadences will be ignored due to the quality mask (quality_bitmask=175).\n",
      "WARNING:lightkurve.utils:Warning: 30% (5871/19412) of the cadences will be ignored due to the quality mask (quality_bitmask=175).\n"
     ]
    }
   ],
   "source": [
    "lc = lk.search_lightcurve(\"TOI 486\", author=\"SPOC\").download_all().stitch()"
   ]
  },
  {
   "cell_type": "code",
   "execution_count": 22,
   "id": "determined-magnitude",
   "metadata": {},
   "outputs": [],
   "source": [
    "df = lc.to_pandas().reset_index()\n",
    "df[\"time\"] = lc[\"time\"].value\n",
    "df.to_csv(\"data/lc.csv\")"
   ]
  }
 ],
 "metadata": {
  "kernelspec": {
   "display_name": "Python 3 (ipykernel)",
   "language": "python",
   "name": "python3"
  },
  "language_info": {
   "codemirror_mode": {
    "name": "ipython",
    "version": 3
   },
   "file_extension": ".py",
   "mimetype": "text/x-python",
   "name": "python",
   "nbconvert_exporter": "python",
   "pygments_lexer": "ipython3",
   "version": "3.11.2"
  }
 },
 "nbformat": 4,
 "nbformat_minor": 5
}
